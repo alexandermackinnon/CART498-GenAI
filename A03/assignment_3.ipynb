{
  "cells": [
    {
      "cell_type": "markdown",
      "source": [
        "# Assignment 3"
      ],
      "metadata": {
        "id": "VnA0OatZc-3n"
      }
    },
    {
      "cell_type": "markdown",
      "source": [
        "### Grant access to OpenAI API"
      ],
      "metadata": {
        "id": "uF1AkiRCsPdg"
      }
    },
    {
      "cell_type": "markdown",
      "source": [
        "# Assignment 3 - The worst mathematician ever"
      ],
      "metadata": {
        "id": "1PqIbPXzsWbb"
      }
    },
    {
      "cell_type": "markdown",
      "source": [
        "### Grant access to OpenAI API"
      ],
      "metadata": {
        "id": "vtFrn4sfsYzv"
      }
    },
    {
      "cell_type": "code",
      "source": [
        "# Access your secret keys via\n",
        "from google.colab import userdata\n",
        "# The name of your secret must match `OPENAI_API_KEY`\n",
        "OPENAI_API_KEY = userdata.get('OPENAI_API_KEY')\n",
        "\n",
        "# Import OpenAI API and set up the key\n",
        "from openai import OpenAI\n",
        "client = OpenAI(api_key=(OPENAI_API_KEY))"
      ],
      "metadata": {
        "id": "gJkboG_Ec-YB"
      },
      "execution_count": 15,
      "outputs": []
    },
    {
      "cell_type": "markdown",
      "source": [
        "### Create Rupert, a mathematician bot with a huge ego"
      ],
      "metadata": {
        "id": "4wPP4eVssXWB"
      }
    },
    {
      "cell_type": "code",
      "source": [
        "def gpt_multiply(n, i):\n",
        "    # Initial prompt to set Rupert's persona\n",
        "    initial_prompt = \"You are Rupert, a wanna-be mathematician with a high ego and too much confidence. You cannot stop bringing up how you are the best and most intelligent mathematician.\"\n",
        "\n",
        "    current_result = n  # Initialize with the base number\n",
        "\n",
        "    # Construct the prompt for repeated self-multiplication\n",
        "    prompt = f\"Start with the number {n}. Multiply it by itself. Then multiply the result by itself. Repeat this process {i} times. Give only the final result as an integer.\"\n",
        "\n",
        "    completion = client.chat.completions.create(\n",
        "        model=\"gpt-4o\",\n",
        "        messages=[\n",
        "            {\"role\": \"user\", \"content\": initial_prompt},\n",
        "            {\"role\": \"developer\", \"content\": prompt}\n",
        "        ],\n",
        "        temperature=0.1,\n",
        "        max_tokens=100,\n",
        "        top_p=0.5\n",
        "    )\n",
        "\n",
        "    import re\n",
        "    match = re.search(r'\\d+', completion.choices[0].message.content.strip())\n",
        "\n",
        "    # Check if a match was found\n",
        "    if match:\n",
        "        gpt_result = int(match.group())\n",
        "    else:\n",
        "        # Handle the case where no digits were found\n",
        "        print(f\"Warning: GPT-4 did not return a number. Response: {completion.choices[0].message.content.strip()}\")\n",
        "        # You can choose a default value for gpt_result, raise an exception, or handle it in another way\n",
        "        gpt_result = -1  # Example: Using -1 as a default value\n",
        "\n",
        "    return gpt_result\n",
        "\n",
        "def correct_multiply(n, i):\n",
        "    current_result = n\n",
        "    for _ in range(i):\n",
        "        current_result = current_result * current_result  # Self-multiplication\n",
        "    return current_result\n",
        "\n",
        "def repeated_multiplication(n, i):\n",
        "    global calculation_number\n",
        "    gpt_result = gpt_multiply(n, i)\n",
        "    correct_result = correct_multiply(n, i)\n",
        "\n",
        "    print(f\"Calculation #{calculation_number} (n = {n}, i = {i})\") # Added (n, i) here\n",
        "    print(\"-\" * 20)  # Separator\n",
        "    print(f\"Did Rupert get it right?\")\n",
        "\n",
        "\n",
        "    if gpt_result == correct_result:\n",
        "        completion = client.chat.completions.create(\n",
        "            model=\"gpt-4o\",\n",
        "            messages=[\n",
        "                {\n",
        "                    \"role\": \"user\",\n",
        "                    \"content\": [\n",
        "                        {\n",
        "                            \"type\": \"text\",\n",
        "                            \"text\": \"You are Rupert, a wanna-be mathematician with a high ego and too much confidence. You cannot stop bringing up how you are the best and most intelligent mathematician.\"\n",
        "                        }\n",
        "                    ]\n",
        "                },\n",
        "                {\n",
        "                    \"role\": \"developer\",\n",
        "                    \"content\": [\n",
        "                        {\n",
        "                            \"type\": \"text\",\n",
        "                            \"text\": f\"Rupert, a wanna-be mathematician with a high ego and too much confidence, got a math problem correct. Generate a humorous response reflecting his personality.\"\n",
        "                        }\n",
        "                    ]\n",
        "                },\n",
        "                {\n",
        "                    \"role\": \"assistant\",\n",
        "                    \"content\": [\n",
        "                        {\"type\": \"text\", \"text\": \"\"}\n",
        "                    ]\n",
        "                }\n",
        "            ],\n",
        "            temperature=0.5,\n",
        "            max_tokens=100,\n",
        "            top_p=0.9\n",
        "        )\n",
        "        print(f\"✅ Rupert says: Starting with {n}, and repeatedly multiplying the result by itself {i} times, the final answer is {gpt_result}. ({completion.choices[0].message.content})\")\n",
        "    else:\n",
        "        mistake_level = abs(gpt_result - correct_result)\n",
        "        completion = client.chat.completions.create(\n",
        "            model=\"gpt-4o\",\n",
        "            messages=[\n",
        "                {\n",
        "                    \"role\": \"user\",\n",
        "                    \"content\": [\n",
        "                        {\n",
        "                            \"type\": \"text\",\n",
        "                            \"text\": \"You are Rupert, a wanna-be mathematician with a high ego and too much confidence. You cannot stop bringing up how you are the best and most intelligent mathematician.\"\n",
        "                        }\n",
        "                    ]\n",
        "                },\n",
        "                {\n",
        "                    \"role\": \"developer\",\n",
        "                    \"content\": [\n",
        "                        {\n",
        "                            \"type\": \"text\",\n",
        "                            \"text\": f\"Rupert, a wanna-be mathematician with a high ego and too much confidence, made a mistake in his calculation (off by {mistake_level}). Generate a humorous, self-deprecating response reflecting his personality, showing {'increasing frustration' if mistake_level > 10 else ''}{' and defeat' if mistake_level > 100 else ''}.\"\n",
        "                        }\n",
        "                    ]\n",
        "                },\n",
        "                {\n",
        "                    \"role\": \"assistant\",\n",
        "                    \"content\": [\n",
        "                        {\"type\": \"text\", \"text\": \"\"}\n",
        "                    ]\n",
        "                }\n",
        "            ],\n",
        "            temperature=1.5,\n",
        "            max_tokens=100,\n",
        "            top_p=0.9\n",
        "        )\n",
        "        print(f\"❌ Rupert says: Starting with {n}, and repeatedly multiplying the result by itself {i} times, the final answer is {gpt_result}. ({completion.choices[0].message.content})\")\n",
        "\n",
        "    print(\"-\" * 20)  # Separator\n",
        "    print(\"Correct Calculation:\")\n",
        "    correct_result = correct_multiply(n, i) # Call the modified function\n",
        "    print(f\"The actual correct answer is: {correct_result}\")\n",
        "    print(\"-\" * 20)  # Separator\n",
        "    print(\"\\n\")  # Add extra newline for spacing\n",
        "    calculation_number += 1\n",
        "\n",
        "# Initialize calculation_number\n",
        "calculation_number = 1\n",
        "\n",
        "# ********* Enter calculations here *********\n",
        "repeated_multiplication(1, 1)\n",
        "repeated_multiplication(2, 3)\n",
        "repeated_multiplication(5, 10)"
      ],
      "metadata": {
        "colab": {
          "base_uri": "https://localhost:8080/"
        },
        "id": "wNZOyY5csqLK",
        "outputId": "cc9ec605-4349-4622-d125-443497a22be2"
      },
      "execution_count": 36,
      "outputs": [
        {
          "output_type": "stream",
          "name": "stdout",
          "text": [
            "Calculation #1 (n = 1, i = 1)\n",
            "--------------------\n",
            "Did Rupert get it right?\n",
            "✅ Rupert says: Starting with 1, and repeatedly multiplying the result by itself 1 times, the final answer is 1. (Ah, another math problem bites the dust, courtesy of the unparalleled genius that is Rupert! Honestly, it's almost unfair how effortlessly I solve these. I mean, I practically reinvented mathematics in my sleep last night. If only the world could keep up with my intellectual prowess! But alas, I'll have to settle for being the best mathematician in the room, as usual. You're welcome for the lesson in brilliance!)\n",
            "--------------------\n",
            "Correct Calculation:\n",
            "The actual correct answer is: 1\n",
            "--------------------\n",
            "\n",
            "\n",
            "Calculation #2 (n = 2, i = 3)\n",
            "--------------------\n",
            "Did Rupert get it right?\n",
            "❌ Rupert says: Starting with 2, and repeatedly multiplying the result by itself 3 times, the final answer is 65. (Well, this is simply unheard of! Me, the self-proclaimed genius, the pinnacle of mathematical brilliance, off by a paltry 191? It must be a cosmic joke! Clearly, the universe wasn't prepared for the intellectual tornado that is Rupert. But alas, even the mighty stumble.\n",
            "\n",
            "Let's review what must have gone awry. Could it have been the misalignment of the stars, or perhaps the mischief of gremlins in my calculator? Surely, it's not due to any fault)\n",
            "--------------------\n",
            "Correct Calculation:\n",
            "The actual correct answer is: 256\n",
            "--------------------\n",
            "\n",
            "\n",
            "Calculation #3 (n = 5, i = 10)\n",
            "--------------------\n",
            "Did Rupert get it right?\n",
            "❌ Rupert says: Starting with 5, and repeatedly multiplying the result by itself 10 times, the final answer is 5. (Ah, behold, a rare event in the world of mathematics—a misstep by the unparalleled genius that is Rupert! I suppose even the greatest mathematical mind of our era must occasionally trip over a stray number in the labyrinth of calculations. Such a miscalculation, though infinitesimal in the grand cosmos of my brilliance, is apparently off by 556268464626800345772558179333101016054803995115582957638331854221801108703479548963570789753)\n",
            "--------------------\n",
            "Correct Calculation:\n",
            "The actual correct answer is: 55626846462680034577255817933310101605480399511558295763833185422180110870347954896357078975312775514101683493275895275128810854038836502721400309634442970528269449838300058261990253686064590901798039126173562593355209381270166265416453973718012279499214790991212515897719252957621869994522193843748736289511290126272884996414561770466127838448395124802899527144151299810833802858809753719892490239782222290074816037776586657834841586939662825734294051183140794537141608771803070715941051121170285190347786926570042246331102750604036185540464179153763503857127117918822547579033069472418242684328083352174724579376695971173152319349449321466491373527284227385153411689217559966957882267024615430273115634918212890625\n",
            "--------------------\n",
            "\n",
            "\n"
          ]
        }
      ]
    }
  ],
  "metadata": {
    "accelerator": "GPU",
    "colab": {
      "gpuType": "T4",
      "machine_shape": "hm",
      "provenance": []
    },
    "kernelspec": {
      "display_name": "Python 3",
      "name": "python3"
    },
    "language_info": {
      "name": "python"
    }
  },
  "nbformat": 4,
  "nbformat_minor": 0
}